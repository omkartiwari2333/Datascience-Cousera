{
 "cells": [
  {
   "cell_type": "markdown",
   "id": "1da5e373-90e1-40a5-87a2-99370303a1fc",
   "metadata": {},
   "source": [
    "Exercise 2: Create markdown cell with title of the notebook"
   ]
  },
  {
   "cell_type": "markdown",
   "id": "cc7f5521-bac5-4587-bdfe-f651eb8d5c03",
   "metadata": {},
   "source": [
    "# Data Science Tools and Ecosystem \n"
   ]
  },
  {
   "cell_type": "markdown",
   "id": "631fca7b-a7da-4833-9b65-410e07e1cf59",
   "metadata": {},
   "source": [
    "Exercise 3 - Create a markdown cell for an introduction"
   ]
  },
  {
   "cell_type": "markdown",
   "id": "79ccd05d-97ef-485e-8bec-df6243947c20",
   "metadata": {},
   "source": [
    "In this notebook, Data Science Tools and Ecosystem are summarized."
   ]
  },
  {
   "cell_type": "markdown",
   "id": "27b0b1cd-6e82-4785-8f2f-5c79d15b0d1a",
   "metadata": {},
   "source": [
    "Exercise 4 - Create a markdown cell to list data science languages"
   ]
  },
  {
   "cell_type": "markdown",
   "id": "c499c63d-e0dd-4a80-b8eb-60c60315bf86",
   "metadata": {},
   "source": [
    "Some of the popular languages that Data Scientists use are:\n",
    "\n",
    "1. Python\n",
    "2. R\n",
    "3. SQL\n",
    "4. Julia\n",
    "5. Java\n"
   ]
  },
  {
   "cell_type": "markdown",
   "id": "15f1f10a-1c0a-44f7-bb3e-65c62531bc05",
   "metadata": {},
   "source": [
    "Exercise 5 - Create a markdown cell to list data science libraries"
   ]
  },
  {
   "cell_type": "markdown",
   "id": "eff372ff-eff4-4e3b-b969-7921d007403b",
   "metadata": {},
   "source": [
    "Some of the commonly used libraries used by Data Scientists include:\n",
    "\n",
    "1. NumPy\n",
    "2. Pandas\n",
    "3. Matplotlib\n",
    "4. Scikit-learn\n",
    "5. TensorFlow\n"
   ]
  },
  {
   "cell_type": "markdown",
   "id": "f4e3a376-8d99-4cf3-8485-ddc54594cc13",
   "metadata": {},
   "source": [
    "Exercise 6 - Create a markdown cell with a table of Data Science tools"
   ]
  },
  {
   "cell_type": "markdown",
   "id": "0460028f-6c21-48c6-b16f-ea64a3f8960b",
   "metadata": {},
   "source": [
    "| Data Science Tools       |\n",
    "---------------------------\n",
    "| Jupyter Notebook          |\n",
    "| RStudio                   |\n",
    "| VS Code                   |\n"
   ]
  },
  {
   "cell_type": "code",
   "execution_count": null,
   "id": "c3b83129-ccce-43b7-aa4e-99a856f1ae3b",
   "metadata": {},
   "outputs": [],
   "source": [
    "Exercise 7 - Create a markdown cell introducing arithmetic expression examples"
   ]
  },
  {
   "cell_type": "markdown",
   "id": "6a692fc1-0485-4c61-ab02-6f73e8cca7c8",
   "metadata": {},
   "source": [
    "Here are some examples of basic arithmetic expressions:\n",
    "\n",
    "1. **Addition**:  \n",
    "   \\( 5 + 3 = 8 \\)\n",
    "\n",
    "2. **Subtraction**:  \n",
    "   \\( 10 - 4 = 6 \\)\n",
    "\n",
    "3. **Multiplication**:  \n",
    "   \\( 7 \\times 2 = 14 \\)\n",
    "\n",
    "4. **Division**:  \n",
    "   \\( 20 \\div 4 = 5 \\)\n"
   ]
  },
  {
   "cell_type": "code",
   "execution_count": null,
   "id": "d7449081-436e-44d0-b9cb-538b0d69d685",
   "metadata": {},
   "outputs": [],
   "source": [
    "Exercise 8 - Create a code cell to multiply and add numbers"
   ]
  },
  {
   "cell_type": "code",
   "execution_count": 14,
   "id": "28f52c9c-1115-4e42-894d-1f318debc257",
   "metadata": {},
   "outputs": [
    {
     "name": "stdout",
     "output_type": "stream",
     "text": [
      "15\n",
      "8\n"
     ]
    }
   ],
   "source": [
    "a = 5\n",
    "b = 3\n",
    "# Multiply\n",
    "product = a * b\n",
    "# Add\n",
    "sum_result = a + b\n",
    "print(product)\n",
    "print(sum_result)\n"
   ]
  },
  {
   "cell_type": "code",
   "execution_count": null,
   "id": "83258b8b-a288-446e-b862-1cd683f31661",
   "metadata": {},
   "outputs": [],
   "source": [
    "Exercise 9 - Create a code cell to convert minutes to hours"
   ]
  },
  {
   "cell_type": "code",
   "execution_count": 16,
   "id": "cba60121-30d7-4d80-a684-6538d32f4eff",
   "metadata": {},
   "outputs": [
    {
     "name": "stdout",
     "output_type": "stream",
     "text": [
      "3.3333333333333335\n"
     ]
    }
   ],
   "source": [
    "minutes = 200\n",
    "hours = minutes / 60\n",
    "\n",
    "# Display the result\n",
    "print(hours)\n"
   ]
  },
  {
   "cell_type": "code",
   "execution_count": null,
   "id": "dcbd5f8d-7411-4efb-8313-36070cb9b07f",
   "metadata": {},
   "outputs": [],
   "source": [
    "Exercise 10 - Insert a markdown cell to list Objectives"
   ]
  },
  {
   "cell_type": "markdown",
   "id": "f405e165-529c-43ec-be3f-abd00a813329",
   "metadata": {},
   "source": [
    "**Objectives:**\n",
    "\n",
    "- List popular languages for Data Science.\n",
    "- List common libraries used in Data Science.\n",
    "- Demonstrate basic arithmetic expressions.\n",
    "- Show how to convert minutes to hours.\n",
    "- Understand how to multiply and add numbers in Python.\n"
   ]
  },
  {
   "cell_type": "code",
   "execution_count": null,
   "id": "2f8b59b6-3cdc-41c5-93dc-f37741f503d9",
   "metadata": {},
   "outputs": [],
   "source": [
    "Exercise 11 - Create a markdown cell to indicate the Author's name"
   ]
  },
  {
   "cell_type": "markdown",
   "id": "a8086a2f-918e-47c8-8120-4fca37d13f55",
   "metadata": {},
   "source": [
    "## Author\n",
    "Omkar Tiwari\n"
   ]
  },
  {
   "cell_type": "code",
   "execution_count": null,
   "id": "a25408d8-529d-4bee-b1a8-d17de0c43098",
   "metadata": {},
   "outputs": [],
   "source": [
    "Exercise 12 - Share your notebook through GitHub"
   ]
  },
  {
   "cell_type": "code",
   "execution_count": null,
   "id": "92b699c9-b58c-4b69-b5cc-237f48027f8a",
   "metadata": {},
   "outputs": [],
   "source": []
  }
 ],
 "metadata": {
  "kernelspec": {
   "display_name": "Python [conda env:base] *",
   "language": "python",
   "name": "conda-base-py"
  },
  "language_info": {
   "codemirror_mode": {
    "name": "ipython",
    "version": 3
   },
   "file_extension": ".py",
   "mimetype": "text/x-python",
   "name": "python",
   "nbconvert_exporter": "python",
   "pygments_lexer": "ipython3",
   "version": "3.12.7"
  }
 },
 "nbformat": 4,
 "nbformat_minor": 5
}
